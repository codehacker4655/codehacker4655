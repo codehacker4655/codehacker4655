{
  "nbformat": 4,
  "nbformat_minor": 0,
  "metadata": {
    "colab": {
      "provenance": [],
      "authorship_tag": "ABX9TyN9otwdAAUr3kndtT3NzcTp",
      "include_colab_link": true
    },
    "kernelspec": {
      "name": "python3",
      "display_name": "Python 3"
    },
    "language_info": {
      "name": "python"
    }
  },
  "cells": [
    {
      "cell_type": "markdown",
      "metadata": {
        "id": "view-in-github",
        "colab_type": "text"
      },
      "source": [
        "<a href=\"https://colab.research.google.com/github/codehacker4655/codehacker4655/blob/main/patterns.ipynb\" target=\"_parent\"><img src=\"https://colab.research.google.com/assets/colab-badge.svg\" alt=\"Open In Colab\"/></a>"
      ]
    },
    {
      "cell_type": "code",
      "execution_count": null,
      "metadata": {
        "colab": {
          "base_uri": "https://localhost:8080/"
        },
        "id": "sDphfHtxx1TL",
        "outputId": "938bd4ef-af99-4650-fb39-44e7ef1b2f8f"
      },
      "outputs": [
        {
          "output_type": "stream",
          "name": "stdout",
          "text": [
            "                  * \n",
            "                * * \n",
            "              * * * \n",
            "            * * * * \n",
            "          * * * * * \n",
            "        * * * * * * \n",
            "      * * * * * * * \n",
            "    * * * * * * * * \n",
            "  * * * * * * * * * \n"
          ]
        }
      ],
      "source": [
        "for i in range(0,9):\n",
        "  for j in range(i,9):\n",
        "    print(\" \",end=\" \")\n",
        "  for j in range(i+1):\n",
        "    print(\"*\",end=\" \")\n",
        "  print()"
      ]
    },
    {
      "cell_type": "code",
      "source": [
        "for i in range(9):\n",
        "  for j in range(i+1):\n",
        "    print(\" \",end=\" \")\n",
        "  for j in range(i,9):\n",
        "    print(\"*\",end=\" \")\n",
        "  print()"
      ],
      "metadata": {
        "colab": {
          "base_uri": "https://localhost:8080/"
        },
        "id": "WUC56fDiDT2F",
        "outputId": "c951efc8-934b-440c-c769-3877f0b71612"
      },
      "execution_count": null,
      "outputs": [
        {
          "output_type": "stream",
          "name": "stdout",
          "text": [
            "  * * * * * * * * * \n",
            "    * * * * * * * * \n",
            "      * * * * * * * \n",
            "        * * * * * * \n",
            "          * * * * * \n",
            "            * * * * \n",
            "              * * * \n",
            "                * * \n",
            "                  * \n"
          ]
        }
      ]
    },
    {
      "cell_type": "code",
      "source": [
        "for i in range(5):\n",
        "  for j in range(i+1):\n",
        "    print(\"*\",end=\"\")\n",
        "  for j in range(i,4):\n",
        "    print(\" \",end=\"\")\n",
        "  for j in range(i,4):\n",
        "    print(\" \",end=\"\")\n",
        "  for j in range(i+1):\n",
        "    print(\"*\",end=\"\")\n",
        "  print()"
      ],
      "metadata": {
        "colab": {
          "base_uri": "https://localhost:8080/"
        },
        "id": "BUDfMDUoDT5U",
        "outputId": "2a59b0ee-3f44-493f-d807-0ef67eb7bbb1"
      },
      "execution_count": null,
      "outputs": [
        {
          "output_type": "stream",
          "name": "stdout",
          "text": [
            "*        *\n",
            "**      **\n",
            "***    ***\n",
            "****  ****\n",
            "**********\n"
          ]
        }
      ]
    },
    {
      "cell_type": "code",
      "source": [
        "for i in range(1,6):\n",
        "  for j in range(1,i+1):\n",
        "    print(j,end=\"\")\n",
        "  print()"
      ],
      "metadata": {
        "colab": {
          "base_uri": "https://localhost:8080/"
        },
        "id": "-A-TifNgDT81",
        "outputId": "c5587b8f-6f57-4c25-8b6e-6e6cd69c18e5"
      },
      "execution_count": null,
      "outputs": [
        {
          "output_type": "stream",
          "name": "stdout",
          "text": [
            "1\n",
            "12\n",
            "123\n",
            "1234\n",
            "12345\n"
          ]
        }
      ]
    },
    {
      "cell_type": "code",
      "source": [
        "for i in range(1,6):\n",
        "  for j in range(i,6):\n",
        "    print(\" \",end=\"\")\n",
        "  for j in range(1,i+1):\n",
        "    print(j,end=\"\")\n",
        "  print()"
      ],
      "metadata": {
        "colab": {
          "base_uri": "https://localhost:8080/"
        },
        "id": "3kHpqg2NDUHC",
        "outputId": "3742ef74-437a-43a0-a8e7-368dea48e440"
      },
      "execution_count": null,
      "outputs": [
        {
          "output_type": "stream",
          "name": "stdout",
          "text": [
            "     1\n",
            "    12\n",
            "   123\n",
            "  1234\n",
            " 12345\n"
          ]
        }
      ]
    },
    {
      "cell_type": "code",
      "source": [
        "for i in range(1,6):\n",
        "  for j in range(i,6):\n",
        "    print(' ',end='')\n",
        "  for j in range(1,i+1):\n",
        "    print(j,end='')\n",
        "  for j in range(i,0,-1):\n",
        "    print(j,end='')\n",
        "  print()"
      ],
      "metadata": {
        "colab": {
          "base_uri": "https://localhost:8080/"
        },
        "id": "-liAbjnPLXBJ",
        "outputId": "80e47756-3654-4bc0-b61b-5f8f5f75600d"
      },
      "execution_count": null,
      "outputs": [
        {
          "output_type": "stream",
          "name": "stdout",
          "text": [
            "     11\n",
            "    1221\n",
            "   123321\n",
            "  12344321\n",
            " 1234554321\n"
          ]
        }
      ]
    },
    {
      "cell_type": "code",
      "source": [
        "for i in range(1,6):\n",
        "  for j in range(i,6):\n",
        "    print(' ',end='')\n",
        "  for j in range(1,i):\n",
        "    print(j,end='')\n",
        "  for j in range(i,0,-1):\n",
        "    print(j,end='')\n",
        "  print()"
      ],
      "metadata": {
        "colab": {
          "base_uri": "https://localhost:8080/"
        },
        "id": "GbexseTaLXNS",
        "outputId": "c9430529-7faa-4320-8216-cd443535c818"
      },
      "execution_count": null,
      "outputs": [
        {
          "output_type": "stream",
          "name": "stdout",
          "text": [
            "     1\n",
            "    121\n",
            "   12321\n",
            "  1234321\n",
            " 123454321\n"
          ]
        }
      ]
    },
    {
      "cell_type": "code",
      "source": [
        "n=int(input())\n",
        "for i in range(n,0,-1):\n",
        "  for j in range(1,i+1):\n",
        "    print(j,end=\"\")\n",
        "  print()\n"
      ],
      "metadata": {
        "colab": {
          "base_uri": "https://localhost:8080/"
        },
        "id": "SHRZ5d4jOUy6",
        "outputId": "7f98381a-b7fa-4690-df0e-6bb625e15a62"
      },
      "execution_count": null,
      "outputs": [
        {
          "output_type": "stream",
          "name": "stdout",
          "text": [
            "5\n",
            "12345\n",
            "1234\n",
            "123\n",
            "12\n",
            "1\n"
          ]
        }
      ]
    },
    {
      "cell_type": "code",
      "source": [
        "for i in range(5):\n",
        "  for j in range(i+1):\n",
        "    print(\" \",end=\"\")\n",
        "  for j in range(i,4):\n",
        "    print(\"*\",end=\"\")\n",
        "  for j in range(i,5):\n",
        "    print(\"*\",end=\"\")\n",
        "  print()\n",
        "for i in range(1,5):\n",
        "  for j in range(i,5):\n",
        "    print(\" \",end=\"\")\n",
        "  for j in range(i):\n",
        "    print(\"*\",end=\"\")\n",
        "  for j in range(i+1):\n",
        "    print(\"*\",end=\"\")\n",
        "  print()"
      ],
      "metadata": {
        "id": "iFN3AzAyOU2f",
        "colab": {
          "base_uri": "https://localhost:8080/"
        },
        "outputId": "1b792139-d182-47a9-ae6c-b2388856221c"
      },
      "execution_count": null,
      "outputs": [
        {
          "output_type": "stream",
          "name": "stdout",
          "text": [
            " *********\n",
            "  *******\n",
            "   *****\n",
            "    ***\n",
            "     *\n",
            "    ***\n",
            "   *****\n",
            "  *******\n",
            " *********\n"
          ]
        }
      ]
    },
    {
      "cell_type": "code",
      "source": [
        "for i in range(0,9):\n",
        "  for j in range(0,9):\n",
        "      if i==0 or j==0 or j==8 or i==8:\n",
        "              print(\"*\",end=\" \")\n",
        "      else:\n",
        "              print(\" \",end=\" \")\n",
        "  print()"
      ],
      "metadata": {
        "id": "zFUnTewuLXQS",
        "colab": {
          "base_uri": "https://localhost:8080/"
        },
        "outputId": "ed68da28-218b-4287-d99f-87f37e77de0f"
      },
      "execution_count": null,
      "outputs": [
        {
          "output_type": "stream",
          "name": "stdout",
          "text": [
            "* * * * * * * * * \n",
            "*               * \n",
            "*               * \n",
            "*               * \n",
            "*               * \n",
            "*               * \n",
            "*               * \n",
            "*               * \n",
            "* * * * * * * * * \n"
          ]
        }
      ]
    },
    {
      "cell_type": "code",
      "source": [
        "for i in range(9):\n",
        "  for j in range(9):\n",
        "    if j==8 or i==8 or i+j==8:\n",
        "      print(\"*\",end=' ')\n",
        "    else:\n",
        "      print(\" \",end=\" \")\n",
        "  print()"
      ],
      "metadata": {
        "id": "Zk0jIEUWLXT0",
        "colab": {
          "base_uri": "https://localhost:8080/"
        },
        "outputId": "d398eaf8-9611-4957-f03a-fc4a507a47c5"
      },
      "execution_count": null,
      "outputs": [
        {
          "output_type": "stream",
          "name": "stdout",
          "text": [
            "                * \n",
            "              * * \n",
            "            *   * \n",
            "          *     * \n",
            "        *       * \n",
            "      *         * \n",
            "    *           * \n",
            "  *             * \n",
            "* * * * * * * * * \n"
          ]
        }
      ]
    },
    {
      "cell_type": "code",
      "source": [
        "for i in range(9):\n",
        "  for j in range(9):\n",
        "    if i==9//2 or j==9//2 :\n",
        "      print(\"*\",end=' ')\n",
        "    else:\n",
        "      print(\" \",end=' ')\n",
        "  print()\n"
      ],
      "metadata": {
        "colab": {
          "base_uri": "https://localhost:8080/"
        },
        "id": "wkEtGBft3cxz",
        "outputId": "d3bcd625-61f6-49ef-b00f-ce0977cc0444"
      },
      "execution_count": null,
      "outputs": [
        {
          "output_type": "stream",
          "name": "stdout",
          "text": [
            "        *         \n",
            "        *         \n",
            "        *         \n",
            "        *         \n",
            "* * * * * * * * * \n",
            "        *         \n",
            "        *         \n",
            "        *         \n",
            "        *         \n"
          ]
        }
      ]
    },
    {
      "cell_type": "code",
      "source": [
        "for i in range(9):\n",
        "  for j in range(9):\n",
        "    if i==0 or j==0 or i==9//2 or j==8 or j==0 :\n",
        "      print(\"*\",end=\" \")\n",
        "    else:\n",
        "      print(\" \",end=\" \")\n",
        "  print()"
      ],
      "metadata": {
        "colab": {
          "base_uri": "https://localhost:8080/"
        },
        "id": "WXK-T_S33c1M",
        "outputId": "fa2bbc7c-e483-4a43-b02a-1366df885652"
      },
      "execution_count": null,
      "outputs": [
        {
          "output_type": "stream",
          "name": "stdout",
          "text": [
            "* * * * * * * * * \n",
            "*               * \n",
            "*               * \n",
            "*               * \n",
            "* * * * * * * * * \n",
            "*               * \n",
            "*               * \n",
            "*               * \n",
            "*               * \n"
          ]
        }
      ]
    },
    {
      "cell_type": "code",
      "source": [
        "for i in range(9):\n",
        "  for j in range(9):\n",
        "    if i==j or i+j==8 :\n",
        "      print(\"*\",end=\" \")\n",
        "    else:\n",
        "      print(\" \",end=\" \")\n",
        "  print()\n",
        "#major diagnol i==j(left) and minor diagnol i+j==n-1\n"
      ],
      "metadata": {
        "id": "OAi5dcIt4zux",
        "colab": {
          "base_uri": "https://localhost:8080/"
        },
        "outputId": "dec1f843-d3b1-4609-af2f-b88f684bb658"
      },
      "execution_count": null,
      "outputs": [
        {
          "output_type": "stream",
          "name": "stdout",
          "text": [
            "*               * \n",
            "  *           *   \n",
            "    *       *     \n",
            "      *   *       \n",
            "        *         \n",
            "      *   *       \n",
            "    *       *     \n",
            "  *           *   \n",
            "*               * \n"
          ]
        }
      ]
    },
    {
      "cell_type": "code",
      "source": [
        "for i in range(9):\n",
        "  for j in range(9):\n",
        "    if i==8 or j==0 or i==j:\n",
        "      print(\"*\",end=\" \")\n",
        "    else:\n",
        "      print(\" \",end=\" \")\n",
        "  print()"
      ],
      "metadata": {
        "id": "r1fB0Gb04zxt",
        "colab": {
          "base_uri": "https://localhost:8080/"
        },
        "outputId": "09cdc10f-30e5-47e4-c88d-bfe557df123d"
      },
      "execution_count": null,
      "outputs": [
        {
          "output_type": "stream",
          "name": "stdout",
          "text": [
            "*                 \n",
            "* *               \n",
            "*   *             \n",
            "*     *           \n",
            "*       *         \n",
            "*         *       \n",
            "*           *     \n",
            "*             *   \n",
            "* * * * * * * * * \n"
          ]
        }
      ]
    },
    {
      "cell_type": "code",
      "source": [
        "for i in range(1,6,2):\n",
        "  print('* '*i)"
      ],
      "metadata": {
        "colab": {
          "base_uri": "https://localhost:8080/"
        },
        "id": "JLI_YEa00R3p",
        "outputId": "4dbd4a90-4a07-4903-b3e1-6c076ffd6206"
      },
      "execution_count": null,
      "outputs": [
        {
          "output_type": "stream",
          "name": "stdout",
          "text": [
            "* \n",
            "* * * \n",
            "* * * * * \n"
          ]
        }
      ]
    },
    {
      "cell_type": "code",
      "source": [
        "for i in range(9):\n",
        "  for j in range(9):\n",
        "    if i==0 or j==0 or i+j==8 :\n",
        "      print(\"*\",end=\" \")\n",
        "    else:\n",
        "      print(\" \",end=\" \")\n",
        "  print()\n"
      ],
      "metadata": {
        "colab": {
          "base_uri": "https://localhost:8080/"
        },
        "id": "m1AQIPMD6MJk",
        "outputId": "8d9e1398-29a2-4ff3-9da3-55ef9dac718f"
      },
      "execution_count": null,
      "outputs": [
        {
          "output_type": "stream",
          "name": "stdout",
          "text": [
            "* * * * * * * * * \n",
            "*             *   \n",
            "*           *     \n",
            "*         *       \n",
            "*       *         \n",
            "*     *           \n",
            "*   *             \n",
            "* *               \n",
            "*                 \n"
          ]
        }
      ]
    },
    {
      "cell_type": "code",
      "source": [
        "for i in range(0,5):\n",
        "  for j in range(i,5):\n",
        "    print(\" \",end=\" \")\n",
        "  for j in range(i):\n",
        "    if i==4 or j==0:\n",
        "      print(\"*\",end=\" \")\n",
        "    else:\n",
        "      print(\" \",end=\" \")\n",
        "  for j in range(i+1):\n",
        "    if i==4 or j==i:\n",
        "      print(\"*\",end=\" \")\n",
        "    else:\n",
        "      print(\" \",end=\" \")\n",
        "  print()\n",
        "\n"
      ],
      "metadata": {
        "colab": {
          "base_uri": "https://localhost:8080/"
        },
        "id": "xLUNQZCV9lQg",
        "outputId": "e9e94d80-2397-4ef5-d93c-1a3d32dd93f7"
      },
      "execution_count": null,
      "outputs": [
        {
          "output_type": "stream",
          "name": "stdout",
          "text": [
            "          * \n",
            "        *   * \n",
            "      *       * \n",
            "    *           * \n",
            "  * * * * * * * * * \n"
          ]
        }
      ]
    },
    {
      "cell_type": "code",
      "source": [
        "#hollow equialateral triangle ,hollow diamond"
      ],
      "metadata": {
        "id": "QM573yE49lT4"
      },
      "execution_count": null,
      "outputs": []
    }
  ]
}