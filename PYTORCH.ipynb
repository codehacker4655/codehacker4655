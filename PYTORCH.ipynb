{
  "nbformat": 4,
  "nbformat_minor": 0,
  "metadata": {
    "colab": {
      "provenance": [],
      "gpuType": "T4",
      "authorship_tag": "ABX9TyNzmcEtXS3mTi1Rm4+05b1I",
      "include_colab_link": true
    },
    "kernelspec": {
      "name": "python3",
      "display_name": "Python 3"
    },
    "language_info": {
      "name": "python"
    },
    "accelerator": "GPU"
  },
  "cells": [
    {
      "cell_type": "markdown",
      "metadata": {
        "id": "view-in-github",
        "colab_type": "text"
      },
      "source": [
        "<a href=\"https://colab.research.google.com/github/codehacker4655/codehacker4655/blob/main/PYTORCH.ipynb\" target=\"_parent\"><img src=\"https://colab.research.google.com/assets/colab-badge.svg\" alt=\"Open In Colab\"/></a>"
      ]
    },
    {
      "cell_type": "code",
      "execution_count": null,
      "metadata": {
        "id": "py1nQ4FBGe-u"
      },
      "outputs": [],
      "source": [
        "import torch"
      ]
    },
    {
      "cell_type": "code",
      "source": [
        "torch.__version__"
      ],
      "metadata": {
        "colab": {
          "base_uri": "https://localhost:8080/",
          "height": 36
        },
        "id": "95RYKQ9LHYCC",
        "outputId": "2e286144-a772-483c-fb0b-295d7f596295"
      },
      "execution_count": null,
      "outputs": [
        {
          "output_type": "execute_result",
          "data": {
            "text/plain": [
              "'2.5.1+cu124'"
            ],
            "application/vnd.google.colaboratory.intrinsic+json": {
              "type": "string"
            }
          },
          "metadata": {},
          "execution_count": 3
        }
      ]
    },
    {
      "cell_type": "code",
      "source": [
        "#creating tensor\n",
        "tensor0=torch.tensor(1)#scalar\n",
        "tensor0"
      ],
      "metadata": {
        "colab": {
          "base_uri": "https://localhost:8080/"
        },
        "id": "x9dz2PSWHX-k",
        "outputId": "caa454d5-7465-4519-a316-88b6d97181c9"
      },
      "execution_count": null,
      "outputs": [
        {
          "output_type": "execute_result",
          "data": {
            "text/plain": [
              "tensor(1)"
            ]
          },
          "metadata": {},
          "execution_count": 4
        }
      ]
    },
    {
      "cell_type": "code",
      "source": [
        "tensor0.ndim#to know the dimension of tensor"
      ],
      "metadata": {
        "colab": {
          "base_uri": "https://localhost:8080/"
        },
        "id": "DX43eOYJHX76",
        "outputId": "b4799b6d-ced4-419e-f6d8-fde3b0b6befc"
      },
      "execution_count": null,
      "outputs": [
        {
          "output_type": "execute_result",
          "data": {
            "text/plain": [
              "0"
            ]
          },
          "metadata": {},
          "execution_count": 5
        }
      ]
    },
    {
      "cell_type": "code",
      "source": [
        "tensor1=torch.tensor([1,2,3,4])#1 dimmension\n",
        "print(tensor1.ndim)\n",
        "tensor2=torch.tensor([[1,2,3],[4,5,6]])\n",
        "print(tensor2.ndim) #2 dimmension"
      ],
      "metadata": {
        "colab": {
          "base_uri": "https://localhost:8080/"
        },
        "id": "fCFDAzqnHX48",
        "outputId": "f3a319f0-0435-4df1-ee4d-82bb975d5bdf"
      },
      "execution_count": null,
      "outputs": [
        {
          "output_type": "stream",
          "name": "stdout",
          "text": [
            "1\n",
            "2\n"
          ]
        }
      ]
    },
    {
      "cell_type": "code",
      "source": [
        "print(tensor2)"
      ],
      "metadata": {
        "colab": {
          "base_uri": "https://localhost:8080/"
        },
        "id": "f6ZxkCUBHX2J",
        "outputId": "726ecf18-e0d7-42fc-86f0-916086b91ba4"
      },
      "execution_count": null,
      "outputs": [
        {
          "output_type": "stream",
          "name": "stdout",
          "text": [
            "tensor([[1, 2, 3],\n",
            "        [4, 5, 6]])\n"
          ]
        }
      ]
    },
    {
      "cell_type": "code",
      "source": [
        "print(tensor1)#one dimension\n",
        "print(tensor2)#two dimension\n",
        "print(tensor1.ndim)\n",
        "print(tensor1.dim())\n",
        "print(tensor2.ndim)\n",
        "print(tensor1.dim())\n",
        "print(tensor0.shape)\n",
        "print(tensor1.size())\n",
        "print(tensor2.shape)\n",
        "print(tensor2.size())\n"
      ],
      "metadata": {
        "colab": {
          "base_uri": "https://localhost:8080/"
        },
        "id": "pzfDMI4XHXzB",
        "outputId": "28d3e7bd-6ca6-4199-c872-691d1290c8c2"
      },
      "execution_count": null,
      "outputs": [
        {
          "output_type": "stream",
          "name": "stdout",
          "text": [
            "tensor([1, 2, 3, 4])\n",
            "tensor([[1, 2, 3],\n",
            "        [4, 5, 6]])\n",
            "1\n",
            "1\n",
            "2\n",
            "1\n",
            "torch.Size([])\n",
            "torch.Size([4])\n",
            "torch.Size([2, 3])\n",
            "torch.Size([2, 3])\n"
          ]
        }
      ]
    },
    {
      "cell_type": "code",
      "source": [
        "size=(3,4)#returns a intialised values like garbage values\n",
        "tensor4=torch.empty(size)\n",
        "print(tensor4)"
      ],
      "metadata": {
        "colab": {
          "base_uri": "https://localhost:8080/"
        },
        "id": "54hK3GcyHXwC",
        "outputId": "ba79d09c-ddb8-4614-ffbb-76e4f7830ba4"
      },
      "execution_count": null,
      "outputs": [
        {
          "output_type": "stream",
          "name": "stdout",
          "text": [
            "tensor([[3.3631e-44, 1.7859e+31, 3.1098e-37, 4.3642e-41],\n",
            "        [1.4013e-45, 2.7370e+20, 5.7819e-34, 0.0000e+00],\n",
            "        [5.6052e-45, 8.4078e-45, 5.6052e-45, 1.8217e-44]])\n"
          ]
        }
      ]
    },
    {
      "cell_type": "code",
      "source": [
        "tensor5=torch.rand(size)\n",
        "tensor5#it will generate he values between 0 and 1"
      ],
      "metadata": {
        "colab": {
          "base_uri": "https://localhost:8080/"
        },
        "id": "-edi5L2FHXtM",
        "outputId": "916dcb62-8709-4993-9ad8-2399598a304f"
      },
      "execution_count": null,
      "outputs": [
        {
          "output_type": "execute_result",
          "data": {
            "text/plain": [
              "tensor([[0.6984, 0.1653, 0.4040, 0.3978],\n",
              "        [0.6266, 0.4584, 0.3901, 0.5618],\n",
              "        [0.3124, 0.2722, 0.4921, 0.2745]])"
            ]
          },
          "metadata": {},
          "execution_count": 10
        }
      ]
    },
    {
      "cell_type": "code",
      "source": [
        "tensor6=torch.zeros(size)\n",
        "tensor6"
      ],
      "metadata": {
        "colab": {
          "base_uri": "https://localhost:8080/"
        },
        "id": "e07M-xlWHXqV",
        "outputId": "c9a67b8a-30e4-4bac-f158-4fea895ed011"
      },
      "execution_count": null,
      "outputs": [
        {
          "output_type": "execute_result",
          "data": {
            "text/plain": [
              "tensor([[0., 0., 0., 0.],\n",
              "        [0., 0., 0., 0.],\n",
              "        [0., 0., 0., 0.]])"
            ]
          },
          "metadata": {},
          "execution_count": 11
        }
      ]
    },
    {
      "cell_type": "code",
      "source": [
        "tensor7=torch.ones(size)\n",
        "tensor7"
      ],
      "metadata": {
        "colab": {
          "base_uri": "https://localhost:8080/"
        },
        "id": "bEDwrb5xHXnQ",
        "outputId": "55b0a547-6152-4674-9502-28a64b759803"
      },
      "execution_count": null,
      "outputs": [
        {
          "output_type": "execute_result",
          "data": {
            "text/plain": [
              "tensor([[1., 1., 1., 1.],\n",
              "        [1., 1., 1., 1.],\n",
              "        [1., 1., 1., 1.]])"
            ]
          },
          "metadata": {},
          "execution_count": 12
        }
      ]
    },
    {
      "cell_type": "code",
      "source": [
        "tensor8=torch.rand(1,2)\n",
        "tensor8\n",
        "tensor8.dtype"
      ],
      "metadata": {
        "colab": {
          "base_uri": "https://localhost:8080/"
        },
        "id": "wfSiKUYHHXkH",
        "outputId": "67010237-82df-49ea-dda3-c8cde3b5ee5d"
      },
      "execution_count": null,
      "outputs": [
        {
          "output_type": "execute_result",
          "data": {
            "text/plain": [
              "torch.float32"
            ]
          },
          "metadata": {},
          "execution_count": 13
        }
      ]
    },
    {
      "cell_type": "code",
      "source": [
        "#creating tensor with a specific datatype\n",
        "tensor9=torch.rand(1,2,dtype=torch.float64)\n",
        "print(tensor9)"
      ],
      "metadata": {
        "colab": {
          "base_uri": "https://localhost:8080/"
        },
        "id": "tC9fEmYIHXg-",
        "outputId": "1b86a6f7-af7e-41a5-87d0-cc735e21dd2c"
      },
      "execution_count": null,
      "outputs": [
        {
          "output_type": "stream",
          "name": "stdout",
          "text": [
            "tensor([[0.6403, 0.7393]], dtype=torch.float64)\n"
          ]
        }
      ]
    },
    {
      "cell_type": "code",
      "source": [
        "tensor8.type(torch.double)#to double the size from float32 to float64"
      ],
      "metadata": {
        "colab": {
          "base_uri": "https://localhost:8080/"
        },
        "id": "UCVdU55jHXeB",
        "outputId": "b3c439e5-c241-4631-bf40-222c189f06f7"
      },
      "execution_count": null,
      "outputs": [
        {
          "output_type": "execute_result",
          "data": {
            "text/plain": [
              "tensor([[0.0118, 0.8421]], dtype=torch.float64)"
            ]
          },
          "metadata": {},
          "execution_count": 15
        }
      ]
    },
    {
      "cell_type": "code",
      "source": [
        "#converting numpy to tensor\n",
        "import numpy as np\n",
        "example_array=np.array([[9,3],[0,4]])\n",
        "tensor8=torch.from_numpy(example_array)\n",
        "print(tensor8)"
      ],
      "metadata": {
        "colab": {
          "base_uri": "https://localhost:8080/"
        },
        "id": "z7SMM8dpHXbM",
        "outputId": "2c50f1e6-7a5a-440d-b22d-4f3040611954"
      },
      "execution_count": null,
      "outputs": [
        {
          "output_type": "stream",
          "name": "stdout",
          "text": [
            "tensor([[9, 3],\n",
            "        [0, 4]])\n"
          ]
        }
      ]
    },
    {
      "cell_type": "code",
      "source": [
        "tensor9=torch.tensor(example_array)\n",
        "print(tensor9)"
      ],
      "metadata": {
        "colab": {
          "base_uri": "https://localhost:8080/"
        },
        "id": "pgvZ3emFHXYD",
        "outputId": "955a2875-36a7-4ceb-cd98-4356af2fa853"
      },
      "execution_count": null,
      "outputs": [
        {
          "output_type": "stream",
          "name": "stdout",
          "text": [
            "tensor([[9, 3],\n",
            "        [0, 4]])\n"
          ]
        }
      ]
    },
    {
      "cell_type": "code",
      "source": [
        "example_array*=3\n",
        "print(tensor8)#here when we use from_numpy the changes u made in that will be reflected in all tensors\n",
        "print(tensor9)#here there will be no change"
      ],
      "metadata": {
        "colab": {
          "base_uri": "https://localhost:8080/"
        },
        "id": "FJPkw5U2HXVE",
        "outputId": "ab9797d8-5d84-450d-d372-12f342ff5a28"
      },
      "execution_count": null,
      "outputs": [
        {
          "output_type": "stream",
          "name": "stdout",
          "text": [
            "tensor([[27,  9],\n",
            "        [ 0, 12]])\n",
            "tensor([[9, 3],\n",
            "        [0, 4]])\n"
          ]
        }
      ]
    },
    {
      "cell_type": "code",
      "source": [
        "#creating a tensor from another tensor\n",
        "tensor10=torch.ones_like(tensor9)\n",
        "print(tensor10)#it will take the shape and datatype of the tensor"
      ],
      "metadata": {
        "colab": {
          "base_uri": "https://localhost:8080/"
        },
        "id": "f7wn-0ZhHXSA",
        "outputId": "83040691-ec1b-438b-d954-87c8be8a60f0"
      },
      "execution_count": null,
      "outputs": [
        {
          "output_type": "stream",
          "name": "stdout",
          "text": [
            "tensor([[1, 1],\n",
            "        [1, 1]])\n"
          ]
        }
      ]
    },
    {
      "cell_type": "code",
      "source": [
        "#device configiration\n",
        "device=torch.device(\"cuda\" if torch.cuda.is_available() else 'cpu')#keeping our device to gpu\n",
        "tensor11=torch.ones(3,7).to(device)#changing the device location from gpu to cpu\n",
        "tensor11=torch.zeros(3,7,device=device)"
      ],
      "metadata": {
        "id": "fWfONVjVUTdQ"
      },
      "execution_count": null,
      "outputs": []
    },
    {
      "cell_type": "code",
      "source": [
        "#accessung elements in tensor\n",
        "print(tensor2)\n",
        "print(tensor2.dim())\n",
        "print(tensor2.size())\n",
        "print(tensor2[0])"
      ],
      "metadata": {
        "colab": {
          "base_uri": "https://localhost:8080/"
        },
        "id": "XOXJSHbGUTZ5",
        "outputId": "34123ea4-08ce-41fd-c2f5-f52adba8fbab"
      },
      "execution_count": null,
      "outputs": [
        {
          "output_type": "stream",
          "name": "stdout",
          "text": [
            "tensor([[1, 2, 3],\n",
            "        [4, 5, 6]])\n",
            "2\n",
            "torch.Size([2, 3])\n",
            "tensor([1, 2, 3])\n"
          ]
        }
      ]
    },
    {
      "cell_type": "code",
      "source": [
        "tensor2[1,0]"
      ],
      "metadata": {
        "colab": {
          "base_uri": "https://localhost:8080/"
        },
        "id": "hhQZKgv9UTXF",
        "outputId": "46b943ed-097c-4694-def5-877ffa129707"
      },
      "execution_count": null,
      "outputs": [
        {
          "output_type": "execute_result",
          "data": {
            "text/plain": [
              "tensor(4)"
            ]
          },
          "metadata": {},
          "execution_count": 22
        }
      ]
    },
    {
      "cell_type": "code",
      "source": [
        "tensor2[:,2]"
      ],
      "metadata": {
        "colab": {
          "base_uri": "https://localhost:8080/"
        },
        "id": "lDLSUF80UTUX",
        "outputId": "3d1b068e-e8fb-4f12-b122-1fed0ee73da2"
      },
      "execution_count": null,
      "outputs": [
        {
          "output_type": "execute_result",
          "data": {
            "text/plain": [
              "tensor([3, 6])"
            ]
          },
          "metadata": {},
          "execution_count": 23
        }
      ]
    },
    {
      "cell_type": "code",
      "source": [
        "tensor2[0,:]"
      ],
      "metadata": {
        "colab": {
          "base_uri": "https://localhost:8080/"
        },
        "id": "SMdA4fi3UTRO",
        "outputId": "a21486f6-8e45-4bb6-88c3-aa6e1aa6e9a6"
      },
      "execution_count": null,
      "outputs": [
        {
          "output_type": "execute_result",
          "data": {
            "text/plain": [
              "tensor([1, 2, 3])"
            ]
          },
          "metadata": {},
          "execution_count": 24
        }
      ]
    },
    {
      "cell_type": "code",
      "source": [
        "tensor12=torch.ones(2,3)\n",
        "tensor13=torch.rand(2,3)"
      ],
      "metadata": {
        "id": "p5kAxTbnUTOT"
      },
      "execution_count": null,
      "outputs": []
    },
    {
      "cell_type": "code",
      "source": [
        "tensor14=tensor12+tensor13\n",
        "print(tensor14)\n",
        "tensor15=torch.add(tensor12,tensor13)\n",
        "tensor16=tensor12-tensor13\n",
        "print(tensor16)\n",
        "tensor17=torch.sub(tensor12,tensor13)\n",
        "tensor18=tensor12*tensor13\n",
        "print(tensor18)\n",
        "tensor19=torch.mul(tensor12,tensor13)"
      ],
      "metadata": {
        "colab": {
          "base_uri": "https://localhost:8080/"
        },
        "id": "vC5swwcG4xJh",
        "outputId": "995aa6a2-5897-4b7b-b011-8e925195e4e0"
      },
      "execution_count": null,
      "outputs": [
        {
          "output_type": "stream",
          "name": "stdout",
          "text": [
            "tensor([[1.6162, 1.6350, 1.3827],\n",
            "        [1.9541, 1.3987, 1.1817]])\n",
            "tensor([[0.3838, 0.3650, 0.6173],\n",
            "        [0.0459, 0.6013, 0.8183]])\n",
            "tensor([[0.6162, 0.6350, 0.3827],\n",
            "        [0.9541, 0.3987, 0.1817]])\n"
          ]
        }
      ]
    },
    {
      "cell_type": "code",
      "source": [
        "x=torch.randint(0,3,(4,5))#(low,high,(shape))\n",
        "x"
      ],
      "metadata": {
        "colab": {
          "base_uri": "https://localhost:8080/"
        },
        "id": "Ac4K4KQP4w8n",
        "outputId": "6d8a2280-a4ff-48b8-e61d-46c9c6d75611"
      },
      "execution_count": null,
      "outputs": [
        {
          "output_type": "execute_result",
          "data": {
            "text/plain": [
              "tensor([[1, 0, 1, 1, 2],\n",
              "        [0, 0, 2, 2, 1],\n",
              "        [2, 1, 2, 2, 2],\n",
              "        [0, 0, 2, 0, 0]])"
            ]
          },
          "metadata": {},
          "execution_count": 32
        }
      ]
    },
    {
      "cell_type": "code",
      "source": [
        "y=x.view(20)#resizing the shape to one dimension\n",
        "z=x.view(-1,10)#resizing the shape in 2d form where it can figure out the shapes\n",
        "print(y)\n",
        "print(z)\n",
        "print(x.size(),y.size(),z.size())"
      ],
      "metadata": {
        "colab": {
          "base_uri": "https://localhost:8080/"
        },
        "id": "w0U_9w-H4w5S",
        "outputId": "a8fd3697-6e61-45d5-966b-4e4728e4dfbe"
      },
      "execution_count": null,
      "outputs": [
        {
          "output_type": "stream",
          "name": "stdout",
          "text": [
            "tensor([1, 0, 1, 1, 2, 0, 0, 2, 2, 1, 2, 1, 2, 2, 2, 0, 0, 2, 0, 0])\n",
            "tensor([[1, 0, 1, 1, 2, 0, 0, 2, 2, 1],\n",
            "        [2, 1, 2, 2, 2, 0, 0, 2, 0, 0]])\n",
            "torch.Size([4, 5]) torch.Size([20]) torch.Size([2, 10])\n"
          ]
        }
      ]
    },
    {
      "cell_type": "code",
      "source": [
        "a=torch.arange(9)#a tensor will get created from numberszero to nine\n",
        "a=a.reshape(3,3)\n",
        "a"
      ],
      "metadata": {
        "colab": {
          "base_uri": "https://localhost:8080/"
        },
        "id": "2zdrlbFo4w2V",
        "outputId": "3ac5d3ed-4cb2-4133-ad31-98f770f3ec58"
      },
      "execution_count": null,
      "outputs": [
        {
          "output_type": "execute_result",
          "data": {
            "text/plain": [
              "tensor([[0, 1, 2],\n",
              "        [3, 4, 5],\n",
              "        [6, 7, 8]])"
            ]
          },
          "metadata": {},
          "execution_count": 37
        }
      ]
    },
    {
      "cell_type": "code",
      "source": [
        "b=torch.randint(0,9,(3,3))##(low,high,size)\n",
        "b"
      ],
      "metadata": {
        "colab": {
          "base_uri": "https://localhost:8080/"
        },
        "id": "9z1ECM8F4wy_",
        "outputId": "e09b898a-53b6-4e04-f650-41240706026e"
      },
      "execution_count": null,
      "outputs": [
        {
          "output_type": "execute_result",
          "data": {
            "text/plain": [
              "tensor([[0, 1, 0],\n",
              "        [5, 5, 5],\n",
              "        [6, 1, 1]])"
            ]
          },
          "metadata": {},
          "execution_count": 39
        }
      ]
    },
    {
      "cell_type": "code",
      "source": [
        "c=torch.cat((a,b),dim=1)#adding elememnts in dimension way\n",
        "c"
      ],
      "metadata": {
        "colab": {
          "base_uri": "https://localhost:8080/"
        },
        "id": "SdExAeHS4wv5",
        "outputId": "bb94f506-3619-4d33-fbb5-e39834abb7fc"
      },
      "execution_count": null,
      "outputs": [
        {
          "output_type": "execute_result",
          "data": {
            "text/plain": [
              "tensor([[0, 1, 2, 0, 1, 0],\n",
              "        [3, 4, 5, 5, 5, 5],\n",
              "        [6, 7, 8, 6, 1, 1]])"
            ]
          },
          "metadata": {},
          "execution_count": 46
        }
      ]
    },
    {
      "cell_type": "code",
      "source": [
        "d=torch.cat((a,b),dim=0)\n",
        "d"
      ],
      "metadata": {
        "colab": {
          "base_uri": "https://localhost:8080/"
        },
        "id": "H36XGIGm4wsZ",
        "outputId": "ab289ff3-25b6-4fe7-e8ba-7d595edae278"
      },
      "execution_count": null,
      "outputs": [
        {
          "output_type": "execute_result",
          "data": {
            "text/plain": [
              "tensor([[0, 1, 2],\n",
              "        [3, 4, 5],\n",
              "        [6, 7, 8],\n",
              "        [0, 1, 0],\n",
              "        [5, 5, 5],\n",
              "        [6, 1, 1]])"
            ]
          },
          "metadata": {},
          "execution_count": 44
        }
      ]
    },
    {
      "cell_type": "code",
      "source": [
        "p=torch.randint(0,9,(2,3,5))\n",
        "p"
      ],
      "metadata": {
        "colab": {
          "base_uri": "https://localhost:8080/"
        },
        "id": "CC7sK2DM4wpM",
        "outputId": "9290383f-8c04-4de0-c681-327a2315dae3"
      },
      "execution_count": null,
      "outputs": [
        {
          "output_type": "execute_result",
          "data": {
            "text/plain": [
              "tensor([[[6, 3, 1, 0, 6],\n",
              "         [3, 4, 5, 6, 5],\n",
              "         [1, 0, 7, 2, 2]],\n",
              "\n",
              "        [[4, 7, 7, 5, 8],\n",
              "         [0, 3, 6, 3, 7],\n",
              "         [7, 8, 5, 4, 2]]])"
            ]
          },
          "metadata": {},
          "execution_count": 45
        }
      ]
    },
    {
      "cell_type": "code",
      "source": [
        "p.sum()"
      ],
      "metadata": {
        "colab": {
          "base_uri": "https://localhost:8080/"
        },
        "id": "xMuXAU8d4wl5",
        "outputId": "97de630e-24ac-4dd8-9e72-5dc3965c0b26"
      },
      "execution_count": null,
      "outputs": [
        {
          "output_type": "execute_result",
          "data": {
            "text/plain": [
              "tensor(127)"
            ]
          },
          "metadata": {},
          "execution_count": 47
        }
      ]
    },
    {
      "cell_type": "code",
      "source": [
        "p.sum(dim=0)"
      ],
      "metadata": {
        "colab": {
          "base_uri": "https://localhost:8080/"
        },
        "id": "mK6_Vsqm4wij",
        "outputId": "45f23d5c-e42b-4125-b547-b578e6a02886"
      },
      "execution_count": null,
      "outputs": [
        {
          "output_type": "execute_result",
          "data": {
            "text/plain": [
              "tensor([[10, 10,  8,  5, 14],\n",
              "        [ 3,  7, 11,  9, 12],\n",
              "        [ 8,  8, 12,  6,  4]])"
            ]
          },
          "metadata": {},
          "execution_count": 48
        }
      ]
    },
    {
      "cell_type": "code",
      "source": [
        "p.sum(dim=1).shape"
      ],
      "metadata": {
        "colab": {
          "base_uri": "https://localhost:8080/"
        },
        "id": "umCLEKkC4wfG",
        "outputId": "3b2cdfd2-4777-4042-e7e1-98756c14942d"
      },
      "execution_count": null,
      "outputs": [
        {
          "output_type": "execute_result",
          "data": {
            "text/plain": [
              "torch.Size([2, 5])"
            ]
          },
          "metadata": {},
          "execution_count": 50
        }
      ]
    },
    {
      "cell_type": "code",
      "source": [
        "p.sum(dim=2).shape"
      ],
      "metadata": {
        "colab": {
          "base_uri": "https://localhost:8080/"
        },
        "id": "UkaIj1Wm4wbz",
        "outputId": "de7d78b9-72d2-4eb2-d807-d7375296874a"
      },
      "execution_count": null,
      "outputs": [
        {
          "output_type": "execute_result",
          "data": {
            "text/plain": [
              "torch.Size([2, 3])"
            ]
          },
          "metadata": {},
          "execution_count": 51
        }
      ]
    },
    {
      "cell_type": "code",
      "source": [
        "#Autograd(to compute the gradients)\n",
        "import torch\n",
        "x=torch.tensor(2.0)\n",
        "x.requires_grad,x.is_leaf\n"
      ],
      "metadata": {
        "id": "Ic0k6nhw66eR",
        "colab": {
          "base_uri": "https://localhost:8080/"
        },
        "outputId": "32e55437-e475-4837-8621-51f7cc37f9e6"
      },
      "execution_count": null,
      "outputs": [
        {
          "output_type": "execute_result",
          "data": {
            "text/plain": [
              "(False, True)"
            ]
          },
          "metadata": {},
          "execution_count": 1
        }
      ]
    },
    {
      "cell_type": "code",
      "source": [
        "y=3*torch.sigmoid(x)+5\n",
        "y.requires_grad,y.is_leaf"
      ],
      "metadata": {
        "id": "8JIgD41U66a0",
        "colab": {
          "base_uri": "https://localhost:8080/"
        },
        "outputId": "b6bb8fc3-8846-4f64-bf60-7339a98eaf75"
      },
      "execution_count": null,
      "outputs": [
        {
          "output_type": "execute_result",
          "data": {
            "text/plain": [
              "(True, False)"
            ]
          },
          "metadata": {},
          "execution_count": 18
        }
      ]
    },
    {
      "cell_type": "code",
      "source": [
        "x=torch.tensor(2.0,requires_grad=True)#and when you set this it will have track of all computations which means in the flow whatever we have we get the value true cause we are caluclating the gradients to use in the chain rule of derivaties\n",
        "y=3*torch.sigmoid(x)+5\n",
        "print(y.requires_grad,y.is_leaf)#so to caluaclate the gradients require_grad must be true cause it only caluclates the derivative and the x shpuld be leaf so that it can save derivaties\n",
        "print(x.requires_grad,x.is_leaf)\n",
        "#time_stamp-34:06"
      ],
      "metadata": {
        "id": "tf2ndUfT66Xz",
        "colab": {
          "base_uri": "https://localhost:8080/"
        },
        "outputId": "d57e4421-be3c-49b6-a12b-c42c715e7799"
      },
      "execution_count": null,
      "outputs": [
        {
          "output_type": "stream",
          "name": "stdout",
          "text": [
            "True False\n",
            "True True\n"
          ]
        }
      ]
    },
    {
      "cell_type": "code",
      "source": [
        "y.backward()#this caluclates the gradient\n",
        "print(x.grad)"
      ],
      "metadata": {
        "id": "3HKB06CW66Uq",
        "colab": {
          "base_uri": "https://localhost:8080/"
        },
        "outputId": "f89684d1-7336-46b4-92ed-c7260083715e"
      },
      "execution_count": null,
      "outputs": [
        {
          "output_type": "stream",
          "name": "stdout",
          "text": [
            "tensor(0.3150)\n"
          ]
        }
      ]
    },
    {
      "cell_type": "code",
      "source": [
        "x.grad.zero_()#to set back to zero\n",
        "y=3*torch.sigmoid(x)+5\n",
        "y.backward()\n",
        "x.grad"
      ],
      "metadata": {
        "id": "D-N2nxAJ66Rj",
        "colab": {
          "base_uri": "https://localhost:8080/"
        },
        "outputId": "fe3bd780-83c1-4110-e858-cd81e666a6b1"
      },
      "execution_count": null,
      "outputs": [
        {
          "output_type": "execute_result",
          "data": {
            "text/plain": [
              "tensor(0.3150)"
            ]
          },
          "metadata": {},
          "execution_count": 30
        }
      ]
    },
    {
      "cell_type": "code",
      "source": [
        "a=torch.rand(2,5,requires_grad=True)\n"
      ],
      "metadata": {
        "id": "MIDNpMumCpQ3"
      },
      "execution_count": null,
      "outputs": []
    },
    {
      "cell_type": "code",
      "source": [
        "b=a*a+a+5\n",
        "b"
      ],
      "metadata": {
        "id": "Y9L0XNScCpNN",
        "colab": {
          "base_uri": "https://localhost:8080/"
        },
        "outputId": "a88552ab-053a-4fb7-a1a9-7412e6c531f6"
      },
      "execution_count": null,
      "outputs": [
        {
          "output_type": "execute_result",
          "data": {
            "text/plain": [
              "tensor([[5.4660, 6.0409, 5.9647, 5.9738, 6.6969],\n",
              "        [5.8095, 5.9632, 5.0048, 5.1443, 5.2927]], grad_fn=<AddBackward0>)"
            ]
          },
          "metadata": {},
          "execution_count": 42
        }
      ]
    },
    {
      "cell_type": "code",
      "source": [
        "c=b.mean()\n",
        "c"
      ],
      "metadata": {
        "id": "RdJeKwoeCpKB",
        "colab": {
          "base_uri": "https://localhost:8080/"
        },
        "outputId": "ea18c878-2ead-45b6-d47b-141fa0ebc6f3"
      },
      "execution_count": null,
      "outputs": [
        {
          "output_type": "execute_result",
          "data": {
            "text/plain": [
              "tensor(5.7357, grad_fn=<MeanBackward0>)"
            ]
          },
          "metadata": {},
          "execution_count": 43
        }
      ]
    },
    {
      "cell_type": "code",
      "source": [
        "b.retain_grad()"
      ],
      "metadata": {
        "id": "ujC668kL4Ky9"
      },
      "execution_count": null,
      "outputs": []
    },
    {
      "cell_type": "code",
      "source": [
        "c.backward()\n",
        "print(a.grad)\n",
        "print(b.grad)"
      ],
      "metadata": {
        "id": "lc_OpmS0CpGz",
        "colab": {
          "base_uri": "https://localhost:8080/"
        },
        "outputId": "f97e8ec0-516e-4b7b-af54-6e6cce0f9433"
      },
      "execution_count": null,
      "outputs": [
        {
          "output_type": "stream",
          "name": "stdout",
          "text": [
            "tensor([[0.1692, 0.2272, 0.2204, 0.2213, 0.2791],\n",
            "        [0.2059, 0.2203, 0.1010, 0.1256, 0.1473]])\n",
            "tensor([[0.1000, 0.1000, 0.1000, 0.1000, 0.1000],\n",
            "        [0.1000, 0.1000, 0.1000, 0.1000, 0.1000]])\n"
          ]
        }
      ]
    },
    {
      "cell_type": "code",
      "source": [
        "x=torch.linspace(0.0,1.0,15)\n",
        "w=torch.tensor([5])\n",
        "b=torch.tensor([3])\n",
        "y=w*x+b\n",
        "y"
      ],
      "metadata": {
        "id": "fv4ptYqDCpDj",
        "colab": {
          "base_uri": "https://localhost:8080/"
        },
        "outputId": "fa6b70ec-2444-4d6c-af8e-7d6238e28a1c"
      },
      "execution_count": null,
      "outputs": [
        {
          "output_type": "execute_result",
          "data": {
            "text/plain": [
              "tensor([3.0000, 3.3571, 3.7143, 4.0714, 4.4286, 4.7857, 5.1429, 5.5000, 5.8571,\n",
              "        6.2143, 6.5714, 6.9286, 7.2857, 7.6429, 8.0000])"
            ]
          },
          "metadata": {},
          "execution_count": 2
        }
      ]
    },
    {
      "cell_type": "code",
      "source": [
        "w=torch.randn(size=(1,1),requires_grad=True)\n",
        "b=torch.randn(size=(1,1),requires_grad=True)\n",
        "\n",
        "def forward(x):\n",
        "  return w*x+b\n",
        "def loss(y,y_pred):\n",
        "  return((y_pred-y)**2).mean()\n",
        "print('w',w)\n",
        "print('b',b)\n"
      ],
      "metadata": {
        "id": "r8sOYnxLCpAY",
        "colab": {
          "base_uri": "https://localhost:8080/"
        },
        "outputId": "daa9d2be-ca29-4d2f-f6af-10ee103eb312"
      },
      "execution_count": null,
      "outputs": [
        {
          "output_type": "stream",
          "name": "stdout",
          "text": [
            "w tensor([[0.0707]], requires_grad=True)\n",
            "b tensor([[1.5195]], requires_grad=True)\n"
          ]
        }
      ]
    },
    {
      "cell_type": "code",
      "source": [
        "learning_rate=0.03\n",
        "num_epochs=180\n",
        "#train the model\n",
        "for epoch in range(num_epochs):\n",
        "  y_pred=forward(x)\n",
        "  l=loss(y,y_pred)\n",
        "  l.backward()\n",
        "  with torch.no_grad():\n",
        "    w-=learning_rate*w.grad\n",
        "    b-=learning_rate*b.grad\n",
        "  w.grad.zero_()\n",
        "  b.grad.zero_()\n",
        "  if (epoch+1)%10==0:\n",
        "    print(f'epoch {epoch+1}:w={w.item()},loss={l.item()}')\n"
      ],
      "metadata": {
        "id": "3v3z7LNNCo9H",
        "colab": {
          "base_uri": "https://localhost:8080/"
        },
        "outputId": "6e5a9f87-c024-47c0-c1a4-b44b52f3d9c4"
      },
      "execution_count": null,
      "outputs": [
        {
          "output_type": "stream",
          "name": "stdout",
          "text": [
            "epoch 10:w=1.1606858968734741,loss=4.966108322143555\n",
            "epoch 20:w=1.7249176502227783,loss=1.6638877391815186\n",
            "epoch 30:w=2.048062324523926,loss=0.9317092895507812\n",
            "epoch 40:w=2.2591052055358887,loss=0.7307809591293335\n",
            "epoch 50:w=2.4165549278259277,loss=0.6430671215057373\n",
            "epoch 60:w=2.5470194816589355,loss=0.5825576782226562\n",
            "epoch 70:w=2.662660598754883,loss=0.5312888026237488\n",
            "epoch 80:w=2.7690978050231934,loss=0.48526498675346375\n",
            "epoch 90:w=2.8689846992492676,loss=0.44337838888168335\n",
            "epoch 100:w=2.9636263847351074,loss=0.4051383137702942\n",
            "epoch 110:w=3.053715229034424,loss=0.37020251154899597\n",
            "epoch 120:w=3.139660358428955,loss=0.33828064799308777\n",
            "epoch 130:w=3.221738338470459,loss=0.309111624956131\n",
            "epoch 140:w=3.3001623153686523,loss=0.2824579179286957\n",
            "epoch 150:w=3.3751132488250732,loss=0.2581023573875427\n",
            "epoch 160:w=3.4467523097991943,loss=0.23584716022014618\n",
            "epoch 170:w=3.515230178833008,loss=0.21551069617271423\n",
            "epoch 180:w=3.580688238143921,loss=0.19692783057689667\n"
          ]
        }
      ]
    },
    {
      "cell_type": "code",
      "source": [
        "import torch\n",
        "import torch.nn as nn#layers,activation functions\n",
        "import torch.optim as optim#optimisers\n",
        "\n",
        "from torchvision import datasets,transforms#to change the image to text"
      ],
      "metadata": {
        "id": "R7dEk0eE2MjA"
      },
      "execution_count": 1,
      "outputs": []
    },
    {
      "cell_type": "code",
      "source": [
        "device=torch.device('cuda' if torch.cuda.is_available() else 'cpu')"
      ],
      "metadata": {
        "id": "3jaMbqPo2Mfq"
      },
      "execution_count": 2,
      "outputs": []
    },
    {
      "cell_type": "code",
      "source": [
        "#hyper parameter tunning\n",
        "hidden_size=400\n",
        "num_epochs=8\n",
        "batch_size=32\n",
        "learning_rate=0.01\n"
      ],
      "metadata": {
        "id": "smF_yRWC2Mcy"
      },
      "execution_count": 3,
      "outputs": []
    },
    {
      "cell_type": "code",
      "source": [
        "train_dataset=datasets.MNIST(root='data',train=True,transform=transforms.ToTensor(),download=True)#will be converting the image to tensor and also we will downloading 60,000 images\n",
        "test_dataset=datasets.MNIST(root='data',train=False,transform=transforms.ToTensor(),download=True)#it will load the test dataset"
      ],
      "metadata": {
        "id": "CgszGu-L2MZ9",
        "colab": {
          "base_uri": "https://localhost:8080/"
        },
        "outputId": "83a3cbbd-2e00-406e-ff6b-89a796a15f72"
      },
      "execution_count": 4,
      "outputs": [
        {
          "output_type": "stream",
          "name": "stdout",
          "text": [
            "Downloading http://yann.lecun.com/exdb/mnist/train-images-idx3-ubyte.gz\n",
            "Failed to download (trying next):\n",
            "HTTP Error 404: Not Found\n",
            "\n",
            "Downloading https://ossci-datasets.s3.amazonaws.com/mnist/train-images-idx3-ubyte.gz\n",
            "Downloading https://ossci-datasets.s3.amazonaws.com/mnist/train-images-idx3-ubyte.gz to data/MNIST/raw/train-images-idx3-ubyte.gz\n"
          ]
        },
        {
          "output_type": "stream",
          "name": "stderr",
          "text": [
            "100%|██████████| 9.91M/9.91M [00:00<00:00, 17.3MB/s]\n"
          ]
        },
        {
          "output_type": "stream",
          "name": "stdout",
          "text": [
            "Extracting data/MNIST/raw/train-images-idx3-ubyte.gz to data/MNIST/raw\n",
            "\n",
            "Downloading http://yann.lecun.com/exdb/mnist/train-labels-idx1-ubyte.gz\n",
            "Failed to download (trying next):\n",
            "HTTP Error 404: Not Found\n",
            "\n",
            "Downloading https://ossci-datasets.s3.amazonaws.com/mnist/train-labels-idx1-ubyte.gz\n",
            "Downloading https://ossci-datasets.s3.amazonaws.com/mnist/train-labels-idx1-ubyte.gz to data/MNIST/raw/train-labels-idx1-ubyte.gz\n"
          ]
        },
        {
          "output_type": "stream",
          "name": "stderr",
          "text": [
            "100%|██████████| 28.9k/28.9k [00:00<00:00, 485kB/s]\n"
          ]
        },
        {
          "output_type": "stream",
          "name": "stdout",
          "text": [
            "Extracting data/MNIST/raw/train-labels-idx1-ubyte.gz to data/MNIST/raw\n",
            "\n",
            "Downloading http://yann.lecun.com/exdb/mnist/t10k-images-idx3-ubyte.gz\n",
            "Failed to download (trying next):\n",
            "HTTP Error 404: Not Found\n",
            "\n",
            "Downloading https://ossci-datasets.s3.amazonaws.com/mnist/t10k-images-idx3-ubyte.gz\n",
            "Downloading https://ossci-datasets.s3.amazonaws.com/mnist/t10k-images-idx3-ubyte.gz to data/MNIST/raw/t10k-images-idx3-ubyte.gz\n"
          ]
        },
        {
          "output_type": "stream",
          "name": "stderr",
          "text": [
            "100%|██████████| 1.65M/1.65M [00:00<00:00, 4.39MB/s]\n"
          ]
        },
        {
          "output_type": "stream",
          "name": "stdout",
          "text": [
            "Extracting data/MNIST/raw/t10k-images-idx3-ubyte.gz to data/MNIST/raw\n",
            "\n",
            "Downloading http://yann.lecun.com/exdb/mnist/t10k-labels-idx1-ubyte.gz\n",
            "Failed to download (trying next):\n",
            "HTTP Error 404: Not Found\n",
            "\n",
            "Downloading https://ossci-datasets.s3.amazonaws.com/mnist/t10k-labels-idx1-ubyte.gz\n",
            "Downloading https://ossci-datasets.s3.amazonaws.com/mnist/t10k-labels-idx1-ubyte.gz to data/MNIST/raw/t10k-labels-idx1-ubyte.gz\n"
          ]
        },
        {
          "output_type": "stream",
          "name": "stderr",
          "text": [
            "100%|██████████| 4.54k/4.54k [00:00<00:00, 13.0MB/s]"
          ]
        },
        {
          "output_type": "stream",
          "name": "stdout",
          "text": [
            "Extracting data/MNIST/raw/t10k-labels-idx1-ubyte.gz to data/MNIST/raw\n",
            "\n"
          ]
        },
        {
          "output_type": "stream",
          "name": "stderr",
          "text": [
            "\n"
          ]
        }
      ]
    },
    {
      "cell_type": "code",
      "source": [
        "print(train_dataset.classes)#to know the classes\n",
        "print(train_dataset.data.shape)#to know number of images and size of each image\n",
        "print(train_dataset.targets.shape)"
      ],
      "metadata": {
        "colab": {
          "base_uri": "https://localhost:8080/"
        },
        "id": "TDOCmazO2MW9",
        "outputId": "bced4797-09fe-4a54-f6f0-d0b7ff128b50"
      },
      "execution_count": 5,
      "outputs": [
        {
          "output_type": "stream",
          "name": "stdout",
          "text": [
            "['0 - zero', '1 - one', '2 - two', '3 - three', '4 - four', '5 - five', '6 - six', '7 - seven', '8 - eight', '9 - nine']\n",
            "torch.Size([60000, 28, 28])\n",
            "torch.Size([60000])\n"
          ]
        }
      ]
    },
    {
      "cell_type": "code",
      "source": [
        "print(test_dataset.classes)\n",
        "print(test_dataset.data.shape)\n",
        "print(test_dataset.targets.shape)"
      ],
      "metadata": {
        "colab": {
          "base_uri": "https://localhost:8080/"
        },
        "id": "CjLryHRxSmrJ",
        "outputId": "5aaacf26-9156-44af-dd3a-8e1e490b5eac"
      },
      "execution_count": 6,
      "outputs": [
        {
          "output_type": "stream",
          "name": "stdout",
          "text": [
            "['0 - zero', '1 - one', '2 - two', '3 - three', '4 - four', '5 - five', '6 - six', '7 - seven', '8 - eight', '9 - nine']\n",
            "torch.Size([10000, 28, 28])\n",
            "torch.Size([10000])\n"
          ]
        }
      ]
    },
    {
      "cell_type": "code",
      "source": [
        "#size we givein and expect as output\n",
        "in_features=784\n",
        "out_features=10"
      ],
      "metadata": {
        "id": "jAt6wqU6Smn3"
      },
      "execution_count": 7,
      "outputs": []
    },
    {
      "cell_type": "code",
      "source": [
        "train_dataloader=torch.utils.data.DataLoader(dataset=train_dataset,batch_size=batch_size,shuffle=True)\n",
        "test_dataloader=torch.utils.data.DataLoader(dataset=test_dataset,batch_size=batch_size,shuffle=False)\n"
      ],
      "metadata": {
        "id": "T-L-HHDxSmkM"
      },
      "execution_count": 8,
      "outputs": []
    },
    {
      "cell_type": "code",
      "source": [
        "import matplotlib.pyplot as plt\n",
        "data=iter(train_dataloader)\n",
        "imgs,label=next(data)\n",
        "print(imgs.shape)\n",
        "print(label.shape)\n",
        "#some math"
      ],
      "metadata": {
        "id": "pDCi6ggISmhT",
        "colab": {
          "base_uri": "https://localhost:8080/"
        },
        "outputId": "4e2693fd-7863-4c8d-d099-930077db2614"
      },
      "execution_count": 9,
      "outputs": [
        {
          "output_type": "stream",
          "name": "stdout",
          "text": [
            "torch.Size([32, 1, 28, 28])\n",
            "torch.Size([32])\n"
          ]
        }
      ]
    },
    {
      "cell_type": "code",
      "source": [
        "class basicneuralnetwork(nn.Module):\n",
        "  def __init__(self,hidden_size):\n",
        "    super(basicneuralnetwork,self).__init__()\n",
        "    self.hidden_size=hidden_size\n",
        "    self.layer1=nn.Linear(in_features,self.hidden_size)\n",
        "    self.layer2=nn.Linear(self.hidden_size,out_features)\n",
        "\n",
        "  def forward(self,x):\n",
        "    out=self.layer1(x)\n",
        "    out=torch.relu(out)\n",
        "    out=self.layer2(out)\n",
        "    return out\n",
        "\n",
        "model=basicneuralnetwork(hidden_size).to(device)\n"
      ],
      "metadata": {
        "id": "O0qyaedJTAVB"
      },
      "execution_count": 10,
      "outputs": []
    },
    {
      "cell_type": "code",
      "source": [
        "w1,b1,w2,b2=list(model.parameters())\n",
        "print(w1,b1,w2,b2)"
      ],
      "metadata": {
        "id": "PiCW9vAITARz",
        "colab": {
          "base_uri": "https://localhost:8080/"
        },
        "outputId": "c07a887d-6587-4651-b0d2-a66708e62ebe"
      },
      "execution_count": 11,
      "outputs": [
        {
          "output_type": "stream",
          "name": "stdout",
          "text": [
            "Parameter containing:\n",
            "tensor([[-0.0352,  0.0079,  0.0352,  ..., -0.0213,  0.0187,  0.0008],\n",
            "        [ 0.0008, -0.0288, -0.0194,  ...,  0.0076,  0.0215, -0.0252],\n",
            "        [ 0.0078, -0.0130,  0.0159,  ..., -0.0138,  0.0112, -0.0008],\n",
            "        ...,\n",
            "        [ 0.0195, -0.0314,  0.0339,  ..., -0.0246,  0.0091, -0.0287],\n",
            "        [ 0.0065, -0.0137, -0.0090,  ..., -0.0302,  0.0180,  0.0279],\n",
            "        [ 0.0324, -0.0221, -0.0256,  ...,  0.0301,  0.0292, -0.0165]],\n",
            "       device='cuda:0', requires_grad=True) Parameter containing:\n",
            "tensor([ 3.4120e-02,  3.4474e-02, -1.6432e-02, -1.1041e-02,  2.9989e-02,\n",
            "         2.7629e-02, -2.1341e-03,  3.4606e-03, -3.3878e-02, -1.3674e-02,\n",
            "         4.1660e-03, -1.9481e-02, -2.2283e-02, -3.4049e-02, -1.8553e-02,\n",
            "         2.0453e-02, -8.6869e-03,  1.0377e-02,  2.3788e-02,  1.9679e-02,\n",
            "        -2.8805e-02,  2.0694e-02, -2.6331e-02, -1.9587e-03, -2.4594e-02,\n",
            "        -2.7361e-02, -1.5762e-02, -1.1172e-02, -1.4734e-02,  2.3327e-02,\n",
            "        -2.4738e-02, -7.5683e-03, -1.7170e-02, -3.5140e-02, -3.4428e-02,\n",
            "         3.5623e-02,  4.7689e-03,  7.3348e-03, -1.6694e-02,  1.8211e-02,\n",
            "         1.5292e-02,  2.4059e-02, -4.6995e-03, -5.3165e-03, -2.1616e-03,\n",
            "         1.3095e-02, -1.6504e-02,  1.3790e-02,  2.9368e-02, -1.7335e-03,\n",
            "        -1.1970e-02,  7.5723e-03,  1.8008e-02, -1.9715e-02,  1.2367e-02,\n",
            "         3.3402e-02,  1.7889e-02,  2.7880e-02, -8.7538e-03, -1.8992e-02,\n",
            "         2.8182e-03, -2.2800e-02,  1.7941e-02,  1.0657e-02, -6.4551e-03,\n",
            "         3.0506e-02,  1.9206e-02,  9.3118e-03,  1.8543e-03,  2.9391e-02,\n",
            "         1.0390e-03,  2.8350e-02, -3.1671e-02,  1.2196e-02, -1.5141e-02,\n",
            "         1.2025e-02, -2.4284e-02,  2.7305e-02, -2.0605e-02,  2.3579e-02,\n",
            "         2.2563e-02,  2.7983e-03, -4.0156e-03,  1.8074e-03, -6.0735e-03,\n",
            "         2.6147e-02, -1.0702e-02, -2.9399e-04,  2.1266e-02, -2.1854e-02,\n",
            "         6.8436e-03, -1.7584e-03, -1.4624e-02, -1.0431e-02, -2.1082e-02,\n",
            "        -3.1857e-02,  6.8490e-03, -1.4647e-02,  3.0885e-03,  1.2057e-02,\n",
            "         9.0101e-03, -3.2563e-02, -3.1942e-02, -9.2655e-03,  1.2350e-02,\n",
            "        -9.2774e-03, -2.5964e-02, -2.4000e-02, -2.5659e-02,  2.3160e-03,\n",
            "        -1.7239e-02, -1.9714e-02,  1.4049e-02, -3.0722e-02, -2.3518e-02,\n",
            "         2.7840e-02,  2.3005e-02, -2.1212e-02,  6.0202e-03,  3.2236e-02,\n",
            "        -2.2556e-02, -1.8147e-02, -2.3758e-02, -2.0861e-02, -6.9400e-03,\n",
            "        -2.0935e-03, -2.6955e-02, -9.5305e-03,  9.9281e-04,  3.8979e-03,\n",
            "         8.0885e-04,  2.6634e-02, -3.3368e-02, -2.4529e-02, -2.9945e-02,\n",
            "        -4.5124e-03,  1.3668e-02,  3.9302e-04,  1.7342e-04,  2.0011e-03,\n",
            "         2.7823e-02,  2.2844e-03,  1.5001e-02, -2.7077e-02, -3.2880e-02,\n",
            "        -3.2580e-02, -3.4373e-02, -2.6899e-02,  2.3794e-02, -3.0603e-02,\n",
            "         3.4548e-02, -2.6800e-02, -1.8912e-03,  2.4087e-02, -7.3901e-05,\n",
            "         3.2301e-02,  2.7794e-02, -1.4536e-02,  9.1473e-04, -1.8820e-02,\n",
            "         1.6815e-03,  3.8669e-03, -6.4679e-03, -3.0729e-02,  2.5240e-02,\n",
            "         2.8325e-02, -2.1219e-02,  7.8615e-03, -4.7647e-03,  3.0411e-02,\n",
            "        -2.3163e-02, -2.3393e-02,  2.1525e-02, -1.4440e-02,  1.0727e-02,\n",
            "         8.2485e-03, -1.9092e-02,  1.5027e-02,  8.2830e-03,  1.2695e-02,\n",
            "        -2.5042e-02, -2.9559e-02,  1.7148e-02,  2.6696e-02,  2.2898e-02,\n",
            "        -5.7771e-04, -1.3852e-02, -3.2582e-02,  2.7400e-03, -5.7504e-03,\n",
            "        -1.5605e-02,  2.8648e-03,  2.1920e-02,  1.0693e-02, -2.8117e-04,\n",
            "         2.6602e-02, -5.1844e-03, -3.5074e-02, -3.4784e-02, -2.2711e-03,\n",
            "        -1.3500e-02,  2.7522e-02, -2.6518e-02, -2.6762e-02, -3.0373e-02,\n",
            "        -3.3005e-04, -1.8196e-02,  3.0789e-02, -1.0634e-02,  1.0264e-02,\n",
            "         1.7945e-02, -1.8940e-02, -2.3986e-02, -2.7778e-02,  1.7011e-02,\n",
            "        -3.3778e-02,  1.1969e-02, -1.2493e-02, -1.2311e-02,  1.1928e-02,\n",
            "         2.4354e-02, -1.0300e-02, -3.0472e-02, -3.4268e-04, -5.0979e-03,\n",
            "         2.7997e-02, -3.2856e-02, -2.1355e-02,  2.1252e-02,  2.1741e-02,\n",
            "        -1.7624e-02,  2.9963e-02,  5.0662e-03, -1.2010e-02,  1.6163e-02,\n",
            "        -3.2618e-02,  3.9394e-03, -2.8936e-02, -5.0979e-03,  3.2678e-02,\n",
            "         9.8418e-03, -2.1158e-02,  2.8050e-02, -1.3678e-04, -3.0696e-02,\n",
            "         2.8627e-02,  5.5519e-03, -1.5032e-02,  1.9755e-02,  1.8550e-03,\n",
            "        -2.6924e-02,  1.7537e-04,  7.0172e-03, -1.3697e-02, -1.8294e-02,\n",
            "        -3.2641e-02, -7.5304e-03,  2.0730e-02, -2.9150e-02,  1.8083e-02,\n",
            "        -2.0413e-02,  1.9459e-02,  1.8120e-02, -6.5186e-03, -2.6587e-03,\n",
            "         1.2113e-02,  5.1940e-03, -1.2429e-02,  3.0252e-02, -1.6772e-02,\n",
            "         2.6622e-02,  1.1454e-02,  1.7059e-02,  2.0531e-02, -1.3146e-02,\n",
            "        -1.1930e-02,  4.4104e-03,  3.8049e-03,  1.3237e-02, -2.5577e-02,\n",
            "        -9.3780e-03, -3.4247e-02, -9.0371e-03,  5.8860e-03, -1.1314e-02,\n",
            "         2.0201e-02, -1.8615e-02, -3.1661e-02, -2.0648e-02,  1.5943e-02,\n",
            "         5.8886e-03,  2.6680e-02, -1.2763e-02, -7.6842e-03, -3.4311e-02,\n",
            "         1.9524e-02, -2.6618e-02, -1.0259e-02, -1.3537e-02,  2.7072e-02,\n",
            "         3.1150e-02,  1.4934e-02, -7.8295e-03,  3.0003e-02, -4.2163e-03,\n",
            "        -1.0843e-02,  1.7820e-02, -1.2685e-02,  1.2132e-02, -2.7432e-03,\n",
            "         1.8988e-02,  4.1847e-03, -4.1828e-03,  2.2816e-02,  1.6542e-02,\n",
            "         1.5294e-02, -3.5102e-03,  7.2949e-03, -1.2531e-03,  2.3821e-02,\n",
            "         1.7983e-02, -1.9717e-02,  3.2888e-03,  2.0063e-02, -2.6527e-02,\n",
            "        -5.9929e-03,  4.2208e-03, -2.4696e-03,  2.2687e-02, -1.3552e-02,\n",
            "        -3.3531e-02, -2.6597e-02,  1.7820e-02, -6.5257e-03, -1.9894e-02,\n",
            "        -1.2270e-02,  2.9465e-02,  3.4244e-02, -3.1420e-02,  2.7836e-03,\n",
            "        -2.5466e-03, -3.1758e-02,  2.6288e-02, -3.5914e-03, -2.9764e-02,\n",
            "         2.5277e-02,  3.4241e-02,  3.1286e-02, -6.8869e-03, -3.5443e-02,\n",
            "         1.2660e-02, -2.3069e-02,  4.1763e-03, -4.8381e-03, -1.4494e-03,\n",
            "        -1.0106e-02, -2.6915e-02,  3.1965e-02, -1.3768e-02,  1.6753e-02,\n",
            "        -5.1895e-03, -3.0133e-02, -2.3064e-02,  2.5354e-04,  4.7670e-03,\n",
            "        -2.0134e-02,  1.5045e-02, -4.3349e-03,  2.8637e-04,  2.0190e-02,\n",
            "        -3.5132e-02, -3.3181e-02, -3.4713e-02,  8.1347e-03,  2.6202e-02,\n",
            "        -1.5254e-02,  1.9556e-02,  6.0641e-03,  1.0538e-03,  3.8772e-03,\n",
            "         2.3926e-02, -1.9276e-02,  3.3555e-02, -2.0440e-02,  4.9505e-04,\n",
            "        -8.0013e-03, -3.4023e-02, -1.1525e-02,  1.6186e-02, -3.1525e-02,\n",
            "         2.1461e-03, -5.6243e-03,  2.8187e-02,  1.5409e-02,  3.0886e-02,\n",
            "        -1.6339e-02, -1.7798e-02, -2.9387e-02, -1.5388e-02,  9.8906e-03],\n",
            "       device='cuda:0', requires_grad=True) Parameter containing:\n",
            "tensor([[ 0.0003, -0.0418, -0.0092,  ..., -0.0162, -0.0310, -0.0268],\n",
            "        [ 0.0388,  0.0149, -0.0428,  ..., -0.0303, -0.0353,  0.0254],\n",
            "        [ 0.0117, -0.0134,  0.0221,  ...,  0.0325,  0.0170,  0.0337],\n",
            "        ...,\n",
            "        [ 0.0340,  0.0113, -0.0047,  ...,  0.0428, -0.0231, -0.0306],\n",
            "        [ 0.0185, -0.0008,  0.0283,  ..., -0.0492,  0.0007, -0.0098],\n",
            "        [-0.0412,  0.0065,  0.0394,  ..., -0.0238, -0.0198,  0.0430]],\n",
            "       device='cuda:0', requires_grad=True) Parameter containing:\n",
            "tensor([-0.0092,  0.0483, -0.0220, -0.0499,  0.0282, -0.0458, -0.0376,  0.0332,\n",
            "         0.0036, -0.0410], device='cuda:0', requires_grad=True)\n"
          ]
        }
      ]
    },
    {
      "cell_type": "code",
      "source": [
        "criterion=nn.CrossEntropyLoss()\n",
        "optimizer=optim.Adam(model.parameters(),lr=learning_rate)"
      ],
      "metadata": {
        "id": "U94OfPaFTAOV"
      },
      "execution_count": 12,
      "outputs": []
    },
    {
      "cell_type": "code",
      "source": [
        "#training\n",
        "total_steps=len(train_dataloader)#to know number of iterations\n",
        "for epoch in range(num_epochs):#here we are defining the epochs\n",
        "  for i,(images,labels) in enumerate(train_dataloader):#batch index,and images and their corresponding labels at every batch 32 images will be loading as input\n",
        "    images=images.reshape(-1,28*28).to(device)#will be reshaped to 784 size so that it satisfies the input features\n",
        "    labels=labels.to(device)\n",
        "\n",
        "    outputs=model(images)#output for 32 images inform of tensors\n",
        "\n",
        "    loss=criterion(outputs,labels)#now it caluclates the loss for the 32 samples according to the formula and takes the average value of it\n",
        "\n",
        "    loss.backward()#here we compute dl/dw,dw/db\n",
        "\n",
        "    optimizer.step()#it updates the weights according to learning rate and gradients and update all parameters for every batch\n",
        "\n",
        "    optimizer.zero_grad()\n",
        "    if (i+1)%100==0:\n",
        "      print(f'epoch {epoch+1}/{num_epochs},step {i+1}/{total_steps},loss={loss.item():.4f}')\n"
      ],
      "metadata": {
        "id": "PxpDB5rnTAKj",
        "colab": {
          "base_uri": "https://localhost:8080/"
        },
        "outputId": "8a5973b4-f295-461d-ad84-5b5bac82ee51"
      },
      "execution_count": 13,
      "outputs": [
        {
          "output_type": "stream",
          "name": "stdout",
          "text": [
            "epoch 1/8,step 100/1875,loss=0.1640\n",
            "epoch 1/8,step 200/1875,loss=0.1892\n",
            "epoch 1/8,step 300/1875,loss=0.0984\n",
            "epoch 1/8,step 400/1875,loss=0.4569\n",
            "epoch 1/8,step 500/1875,loss=0.2165\n",
            "epoch 1/8,step 600/1875,loss=0.3384\n",
            "epoch 1/8,step 700/1875,loss=0.1416\n",
            "epoch 1/8,step 800/1875,loss=0.4008\n",
            "epoch 1/8,step 900/1875,loss=0.0155\n",
            "epoch 1/8,step 1000/1875,loss=0.1192\n",
            "epoch 1/8,step 1100/1875,loss=0.1269\n",
            "epoch 1/8,step 1200/1875,loss=0.1396\n",
            "epoch 1/8,step 1300/1875,loss=0.0644\n",
            "epoch 1/8,step 1400/1875,loss=0.2284\n",
            "epoch 1/8,step 1500/1875,loss=0.0899\n",
            "epoch 1/8,step 1600/1875,loss=0.0256\n",
            "epoch 1/8,step 1700/1875,loss=0.1281\n",
            "epoch 1/8,step 1800/1875,loss=0.2287\n",
            "epoch 2/8,step 100/1875,loss=0.0401\n",
            "epoch 2/8,step 200/1875,loss=0.1956\n",
            "epoch 2/8,step 300/1875,loss=0.0628\n",
            "epoch 2/8,step 400/1875,loss=0.4703\n",
            "epoch 2/8,step 500/1875,loss=0.1049\n",
            "epoch 2/8,step 600/1875,loss=0.2159\n",
            "epoch 2/8,step 700/1875,loss=0.0530\n",
            "epoch 2/8,step 800/1875,loss=0.1421\n",
            "epoch 2/8,step 900/1875,loss=0.1477\n",
            "epoch 2/8,step 1000/1875,loss=0.0131\n",
            "epoch 2/8,step 1100/1875,loss=0.4363\n",
            "epoch 2/8,step 1200/1875,loss=0.1109\n",
            "epoch 2/8,step 1300/1875,loss=0.1885\n",
            "epoch 2/8,step 1400/1875,loss=0.0196\n",
            "epoch 2/8,step 1500/1875,loss=0.0785\n",
            "epoch 2/8,step 1600/1875,loss=0.2323\n",
            "epoch 2/8,step 1700/1875,loss=0.0154\n",
            "epoch 2/8,step 1800/1875,loss=0.3196\n",
            "epoch 3/8,step 100/1875,loss=0.0819\n",
            "epoch 3/8,step 200/1875,loss=0.1027\n",
            "epoch 3/8,step 300/1875,loss=0.6031\n",
            "epoch 3/8,step 400/1875,loss=0.2536\n",
            "epoch 3/8,step 500/1875,loss=0.0152\n",
            "epoch 3/8,step 600/1875,loss=0.1097\n",
            "epoch 3/8,step 700/1875,loss=0.1402\n",
            "epoch 3/8,step 800/1875,loss=0.0111\n",
            "epoch 3/8,step 900/1875,loss=0.5270\n",
            "epoch 3/8,step 1000/1875,loss=0.4865\n",
            "epoch 3/8,step 1100/1875,loss=0.1376\n",
            "epoch 3/8,step 1200/1875,loss=0.3007\n",
            "epoch 3/8,step 1300/1875,loss=0.0213\n",
            "epoch 3/8,step 1400/1875,loss=0.0093\n",
            "epoch 3/8,step 1500/1875,loss=0.1145\n",
            "epoch 3/8,step 1600/1875,loss=0.0008\n",
            "epoch 3/8,step 1700/1875,loss=0.0300\n",
            "epoch 3/8,step 1800/1875,loss=0.0906\n",
            "epoch 4/8,step 100/1875,loss=0.0420\n",
            "epoch 4/8,step 200/1875,loss=0.1608\n",
            "epoch 4/8,step 300/1875,loss=0.0145\n",
            "epoch 4/8,step 400/1875,loss=0.1528\n",
            "epoch 4/8,step 500/1875,loss=0.0201\n",
            "epoch 4/8,step 600/1875,loss=0.0235\n",
            "epoch 4/8,step 700/1875,loss=0.2329\n",
            "epoch 4/8,step 800/1875,loss=0.3513\n",
            "epoch 4/8,step 900/1875,loss=0.0170\n",
            "epoch 4/8,step 1000/1875,loss=0.2321\n",
            "epoch 4/8,step 1100/1875,loss=0.0775\n",
            "epoch 4/8,step 1200/1875,loss=0.1297\n",
            "epoch 4/8,step 1300/1875,loss=0.2427\n",
            "epoch 4/8,step 1400/1875,loss=0.1207\n",
            "epoch 4/8,step 1500/1875,loss=0.6466\n",
            "epoch 4/8,step 1600/1875,loss=0.0949\n",
            "epoch 4/8,step 1700/1875,loss=0.2336\n",
            "epoch 4/8,step 1800/1875,loss=0.1003\n",
            "epoch 5/8,step 100/1875,loss=0.0130\n",
            "epoch 5/8,step 200/1875,loss=0.0909\n",
            "epoch 5/8,step 300/1875,loss=0.0161\n",
            "epoch 5/8,step 400/1875,loss=0.2055\n",
            "epoch 5/8,step 500/1875,loss=0.2658\n",
            "epoch 5/8,step 600/1875,loss=0.3251\n",
            "epoch 5/8,step 700/1875,loss=0.0674\n",
            "epoch 5/8,step 800/1875,loss=0.0165\n",
            "epoch 5/8,step 900/1875,loss=0.2489\n",
            "epoch 5/8,step 1000/1875,loss=0.0138\n",
            "epoch 5/8,step 1100/1875,loss=0.1271\n",
            "epoch 5/8,step 1200/1875,loss=0.0093\n",
            "epoch 5/8,step 1300/1875,loss=0.1595\n",
            "epoch 5/8,step 1400/1875,loss=0.0759\n",
            "epoch 5/8,step 1500/1875,loss=0.0055\n",
            "epoch 5/8,step 1600/1875,loss=0.0070\n",
            "epoch 5/8,step 1700/1875,loss=0.2063\n",
            "epoch 5/8,step 1800/1875,loss=0.0837\n",
            "epoch 6/8,step 100/1875,loss=0.0477\n",
            "epoch 6/8,step 200/1875,loss=0.1218\n",
            "epoch 6/8,step 300/1875,loss=0.1092\n",
            "epoch 6/8,step 400/1875,loss=0.1279\n",
            "epoch 6/8,step 500/1875,loss=0.0565\n",
            "epoch 6/8,step 600/1875,loss=0.0138\n",
            "epoch 6/8,step 700/1875,loss=0.7956\n",
            "epoch 6/8,step 800/1875,loss=0.0046\n",
            "epoch 6/8,step 900/1875,loss=0.0004\n",
            "epoch 6/8,step 1000/1875,loss=0.0299\n",
            "epoch 6/8,step 1100/1875,loss=0.0083\n",
            "epoch 6/8,step 1200/1875,loss=0.0042\n",
            "epoch 6/8,step 1300/1875,loss=0.0022\n",
            "epoch 6/8,step 1400/1875,loss=0.3116\n",
            "epoch 6/8,step 1500/1875,loss=0.0066\n",
            "epoch 6/8,step 1600/1875,loss=0.0090\n",
            "epoch 6/8,step 1700/1875,loss=0.0003\n",
            "epoch 6/8,step 1800/1875,loss=0.0035\n",
            "epoch 7/8,step 100/1875,loss=0.0137\n",
            "epoch 7/8,step 200/1875,loss=0.0982\n",
            "epoch 7/8,step 300/1875,loss=0.0663\n",
            "epoch 7/8,step 400/1875,loss=0.0858\n",
            "epoch 7/8,step 500/1875,loss=0.4069\n",
            "epoch 7/8,step 600/1875,loss=0.0663\n",
            "epoch 7/8,step 700/1875,loss=0.0157\n",
            "epoch 7/8,step 800/1875,loss=0.0303\n",
            "epoch 7/8,step 900/1875,loss=0.0597\n",
            "epoch 7/8,step 1000/1875,loss=0.1648\n",
            "epoch 7/8,step 1100/1875,loss=0.0100\n",
            "epoch 7/8,step 1200/1875,loss=0.0241\n",
            "epoch 7/8,step 1300/1875,loss=0.0033\n",
            "epoch 7/8,step 1400/1875,loss=0.3265\n",
            "epoch 7/8,step 1500/1875,loss=0.0000\n",
            "epoch 7/8,step 1600/1875,loss=0.2580\n",
            "epoch 7/8,step 1700/1875,loss=0.1402\n",
            "epoch 7/8,step 1800/1875,loss=0.0348\n",
            "epoch 8/8,step 100/1875,loss=0.0002\n",
            "epoch 8/8,step 200/1875,loss=0.0176\n",
            "epoch 8/8,step 300/1875,loss=0.0470\n",
            "epoch 8/8,step 400/1875,loss=0.0491\n",
            "epoch 8/8,step 500/1875,loss=0.0065\n",
            "epoch 8/8,step 600/1875,loss=0.0001\n",
            "epoch 8/8,step 700/1875,loss=0.2308\n",
            "epoch 8/8,step 800/1875,loss=0.0581\n",
            "epoch 8/8,step 900/1875,loss=0.0154\n",
            "epoch 8/8,step 1000/1875,loss=0.0102\n",
            "epoch 8/8,step 1100/1875,loss=0.1350\n",
            "epoch 8/8,step 1200/1875,loss=0.1818\n",
            "epoch 8/8,step 1300/1875,loss=0.2413\n",
            "epoch 8/8,step 1400/1875,loss=0.0271\n",
            "epoch 8/8,step 1500/1875,loss=0.0002\n",
            "epoch 8/8,step 1600/1875,loss=0.1592\n",
            "epoch 8/8,step 1700/1875,loss=0.0272\n",
            "epoch 8/8,step 1800/1875,loss=0.1121\n"
          ]
        }
      ]
    },
    {
      "cell_type": "code",
      "source": [
        "#testing and accuracy part left"
      ],
      "metadata": {
        "id": "7cQptvWGTAHh"
      },
      "execution_count": 14,
      "outputs": []
    },
    {
      "cell_type": "code",
      "source": [],
      "metadata": {
        "id": "tMxaO2noTAED"
      },
      "execution_count": null,
      "outputs": []
    },
    {
      "cell_type": "code",
      "source": [],
      "metadata": {
        "id": "TTGNkWf3TLUy"
      },
      "execution_count": null,
      "outputs": []
    },
    {
      "cell_type": "code",
      "source": [],
      "metadata": {
        "id": "8Cib8-pJTLRb"
      },
      "execution_count": null,
      "outputs": []
    },
    {
      "cell_type": "code",
      "source": [],
      "metadata": {
        "id": "rXhl-4G4TLNr"
      },
      "execution_count": null,
      "outputs": []
    },
    {
      "cell_type": "code",
      "source": [],
      "metadata": {
        "id": "kZSxm3T4TLKT"
      },
      "execution_count": null,
      "outputs": []
    },
    {
      "cell_type": "code",
      "source": [],
      "metadata": {
        "id": "oRKE-9WRTLGe"
      },
      "execution_count": null,
      "outputs": []
    },
    {
      "cell_type": "code",
      "source": [],
      "metadata": {
        "id": "Z-K_KItnTLCt"
      },
      "execution_count": null,
      "outputs": []
    },
    {
      "cell_type": "code",
      "source": [],
      "metadata": {
        "id": "oR-BaovtTK_O"
      },
      "execution_count": null,
      "outputs": []
    },
    {
      "cell_type": "code",
      "source": [],
      "metadata": {
        "id": "6Di2UGGETK7e"
      },
      "execution_count": null,
      "outputs": []
    }
  ]
}